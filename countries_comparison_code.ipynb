{
 "cells": [
  {
   "cell_type": "code",
   "execution_count": 16,
   "id": "85b68fbb-ca3f-479c-a540-e029506ed5c8",
   "metadata": {},
   "outputs": [
    {
     "name": "stdout",
     "output_type": "stream",
     "text": [
      "       Healthcare Expenditure per Capita (USD)  Life Expectancy (Years)  \\\n",
      "count                               144.000000               144.000000   \n",
      "mean                               3747.403819                77.323194   \n",
      "std                                3914.846503                 5.411696   \n",
      "min                                  69.420000                66.140000   \n",
      "25%                                 447.750000                73.042500   \n",
      "50%                                2747.700000                78.020000   \n",
      "75%                                5379.400000                81.715000   \n",
      "max                               11528.000000                87.150000   \n",
      "\n",
      "       Urban Population (%)  GDP per Capita (in USD)  \n",
      "count            144.000000               144.000000  \n",
      "mean              69.617222             31118.720139  \n",
      "std               17.862888             24438.786379  \n",
      "min               33.600000              2009.700000  \n",
      "25%               59.940000              9972.500000  \n",
      "50%               77.330000             27548.000000  \n",
      "75%               83.110000             52231.500000  \n",
      "max               90.040000             68120.000000  \n",
      "\n",
      "Mean Healthcare Expenditure per Capita: 3747.4038194444447\n",
      "Mean Life Expectancy: 77.32319444444445\n",
      "\n",
      "Average Life Expectancy by Country:\n",
      "Country\n",
      "Australia    83.129167\n",
      "Canada       82.447083\n",
      "China        76.601250\n",
      "India        69.351250\n",
      "Russia       73.214167\n",
      "USA          79.196250\n",
      "Name: Life Expectancy (Years), dtype: float64\n",
      "\n",
      "Correlation between Urban Population (%) and Life Expectancy (Years): 0.7711012501723186\n",
      "\n",
      "Correlation between Literacy Rate (%) and Healthcare Expenditure per Capita (USD): 0.4822021945054177\n"
     ]
    }
   ],
   "source": [
    "import pandas as pd\n",
    "df = pd.read_csv(\"country_comparison_large_dataset.csv\", delimiter=';')\n",
    "\n",
    "df['Literacy Rate (%)'] = df['Literacy Rate (%)'].str.replace(',', '.').astype(float)\n",
    "df['Healthcare Expenditure per Capita (USD)'] = df['Healthcare Expenditure per Capita (USD)'].str.replace(',', '.').astype(float)\n",
    "df['Life Expectancy (Years)'] = df['Life Expectancy (Years)'].str.replace(',', '.').astype(float)\n",
    "df['Urban Population (%)'] = df['Urban Population (%)'].str.replace(',', '.').astype(float)\n",
    "df['GDP per Capita (in USD)'] = df['GDP per Capita (in USD)'].str.replace(',', '.').astype(float)\n",
    "\n",
    "\n",
    "# Descriptive Statistics\n",
    "descriptive_stats = df[['Healthcare Expenditure per Capita (USD)', 'Life Expectancy (Years)',\n",
    "                        'Urban Population (%)', 'GDP per Capita (in USD)']].describe()\n",
    "print(descriptive_stats)\n",
    "\n",
    "mean_healthcare_expenditure = df['Healthcare Expenditure per Capita (USD)'].mean()\n",
    "print(\"\\nMean Healthcare Expenditure per Capita:\", mean_healthcare_expenditure)\n",
    "\n",
    "mean_life_expectancy = df['Life Expectancy (Years)'].mean()\n",
    "print(\"Mean Life Expectancy:\", mean_life_expectancy)\n",
    "\n",
    "country_life_expectancy = df.groupby('Country')['Life Expectancy (Years)'].mean()\n",
    "print(\"\\nAverage Life Expectancy by Country:\")\n",
    "print(country_life_expectancy)\n",
    "\n",
    "# Urbanization and Life Expectancy Analysis\n",
    "urban_life_correlation = df[['Urban Population (%)', 'Life Expectancy (Years)']].corr().iloc[0, 1]\n",
    "print(\"\\nCorrelation between Urban Population (%) and Life Expectancy (Years):\", urban_life_correlation)\n",
    "\n",
    "# Education and Healthcare Expenditure Analysis\n",
    "literacy_health_correlation = df[['Literacy Rate (%)', 'Healthcare Expenditure per Capita (USD)']].corr().iloc[0, 1]\n",
    "print(\"\\nCorrelation between Literacy Rate (%) and Healthcare Expenditure per Capita (USD):\", literacy_health_correlation)\n",
    "\n",
    "\n",
    "\n"
   ]
  },
  {
   "cell_type": "code",
   "execution_count": null,
   "id": "ebe23052-4ea3-481d-a0b9-850ef69e4bb9",
   "metadata": {},
   "outputs": [],
   "source": []
  },
  {
   "cell_type": "code",
   "execution_count": null,
   "id": "42db288b-e582-4482-a6dd-165bc6263218",
   "metadata": {},
   "outputs": [],
   "source": []
  }
 ],
 "metadata": {
  "kernelspec": {
   "display_name": "Python 3 (ipykernel)",
   "language": "python",
   "name": "python3"
  },
  "language_info": {
   "codemirror_mode": {
    "name": "ipython",
    "version": 3
   },
   "file_extension": ".py",
   "mimetype": "text/x-python",
   "name": "python",
   "nbconvert_exporter": "python",
   "pygments_lexer": "ipython3",
   "version": "3.12.4"
  }
 },
 "nbformat": 4,
 "nbformat_minor": 5
}
